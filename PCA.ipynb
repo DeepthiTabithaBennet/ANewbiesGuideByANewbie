{
  "nbformat": 4,
  "nbformat_minor": 0,
  "metadata": {
    "colab": {
      "provenance": [],
      "authorship_tag": "ABX9TyMhgen3VeFE/s9wpgs/zLsW",
      "include_colab_link": true
    },
    "kernelspec": {
      "name": "python3",
      "display_name": "Python 3"
    },
    "language_info": {
      "name": "python"
    }
  },
  "cells": [
    {
      "cell_type": "markdown",
      "metadata": {
        "id": "view-in-github",
        "colab_type": "text"
      },
      "source": [
        "<a href=\"https://colab.research.google.com/github/DeepthiTabithaBennet/MachineLearning/blob/main/PCA.ipynb\" target=\"_parent\"><img src=\"https://colab.research.google.com/assets/colab-badge.svg\" alt=\"Open In Colab\"/></a>"
      ]
    },
    {
      "cell_type": "code",
      "execution_count": null,
      "metadata": {
        "id": "1QnqNk3Fv5r4"
      },
      "outputs": [],
      "source": [
        "import numpy as np\n",
        "import sys\n",
        "\n",
        "np.set_printoptions(suppress=True)\n",
        "sys.stderr = object"
      ]
    },
    {
      "cell_type": "code",
      "source": [
        "Xs = np.array([7718, 6958, 8551, 6924, 6298, 6120, 6184, 6527, 5081, 4216, 5532, 5638, 4147, 3562, 2955, 4261, 3644, 2020]) \n",
        "\n",
        "Xr = np.array([7258, 7232, 7062, 6526, 5251, 5158, 5051, 4850, 4825, 4762, 4750, 4620, 4229, 3497, 3480, 3392, 3120, 2946])"
      ],
      "metadata": {
        "id": "E_AO0mcbwAXc"
      },
      "execution_count": null,
      "outputs": []
    },
    {
      "cell_type": "code",
      "source": [
        "Xs_standard = (Xs - np.mean(Xs)) / np.std(Xs, ddof=1)\n",
        "print(np.sum(Xs))\n",
        "print(np.sum(Xs) ** 2)\n",
        "np.mean(Xs)\n",
        "print(Xs_standard)\n",
        "\n",
        "\n",
        "Xr_standard = (Xr - np.mean(Xr)) / np.std(Xr, ddof=1)\n",
        "print(np.sum(Xr))\n",
        "print(np.sum(Xr) ** 2)\n",
        "np.mean(Xr)\n",
        "print(Xr_standard)"
      ],
      "metadata": {
        "colab": {
          "base_uri": "https://localhost:8080/"
        },
        "id": "HFkEKArywAkS",
        "outputId": "53576326-cd8a-4957-b88e-f54eae367f17"
      },
      "execution_count": null,
      "outputs": [
        {
          "output_type": "stream",
          "name": "stdout",
          "text": [
            "96336\n",
            "9280624896\n",
            "[ 1.35897821  0.92245097  1.83743503  0.90292212  0.54336153  0.44112226\n",
            "  0.47788245  0.67489408 -0.15565642 -0.65249334  0.10338803  0.16427209\n",
            " -0.69212542 -1.02813651 -1.37678392 -0.62664633 -0.98103752 -1.9138273 ]\n",
            "88009\n",
            "7745584081\n",
            "[ 1.71702284  1.69817525  1.57494106  1.18639089  0.26213444  0.19471808\n",
            "  0.11715303 -0.02855328 -0.04667596 -0.0923451  -0.10104398 -0.1952819\n",
            " -0.47872055 -1.00935249 -1.02167591 -1.08546773 -1.28264244 -1.40877626]\n"
          ]
        }
      ]
    },
    {
      "cell_type": "code",
      "source": [
        "cov_matrix = np.cov(Xs_standard, Xr_standard, rowvar = False)\n",
        "print(cov_matrix)"
      ],
      "metadata": {
        "colab": {
          "base_uri": "https://localhost:8080/"
        },
        "id": "uTBFp8HJwBjc",
        "outputId": "8c151c1c-8bcf-4ddf-ce08-d41d89fde865"
      },
      "execution_count": null,
      "outputs": [
        {
          "output_type": "stream",
          "name": "stdout",
          "text": [
            "[[1.         0.91561062]\n",
            " [0.91561062 1.        ]]\n"
          ]
        }
      ]
    },
    {
      "cell_type": "code",
      "source": [
        "eigen_values , eigen_vectors = np.linalg.eig(cov_matrix)\n",
        "print(eigen_values)\n",
        "print(eigen_vectors)"
      ],
      "metadata": {
        "colab": {
          "base_uri": "https://localhost:8080/"
        },
        "id": "hGYnirsSwnYk",
        "outputId": "a11d0875-be70-454a-d001-1cb1c7752160"
      },
      "execution_count": null,
      "outputs": [
        {
          "output_type": "stream",
          "name": "stdout",
          "text": [
            "[1.91561062 0.08438938]\n",
            "[[ 0.70710678 -0.70710678]\n",
            " [ 0.70710678  0.70710678]]\n"
          ]
        }
      ]
    },
    {
      "cell_type": "code",
      "source": [
        "normalised_matrix = np.dstack((Xs_standard, Xr_standard))\n",
        "print(normalised_matrix)\n",
        "\n",
        "print(\"\\n\")\n",
        "\n",
        "for i in range(0, 18):\n",
        "    principal_comp = np.array([ np.dot(eigen_vectors, normalised_matrix[i].transpose()) ])\n",
        "    print(principal_comp)\n",
        "\n",
        "print(\"\\n\")"
      ],
      "metadata": {
        "colab": {
          "base_uri": "https://localhost:8080/"
        },
        "id": "AZzQPjeawnDx",
        "outputId": "15d1d583-82c3-4338-9094-d7f5ee18c73d"
      },
      "execution_count": null,
      "outputs": [
        {
          "output_type": "stream",
          "name": "stdout",
          "text": [
            "[[[ 1.35897821  1.71702284]\n",
            "  [ 0.92245097  1.69817525]\n",
            "  [ 1.83743503  1.57494106]\n",
            "  [ 0.90292212  1.18639089]\n",
            "  [ 0.54336153  0.26213444]\n",
            "  [ 0.44112226  0.19471808]\n",
            "  [ 0.47788245  0.11715303]\n",
            "  [ 0.67489408 -0.02855328]\n",
            "  [-0.15565642 -0.04667596]\n",
            "  [-0.65249334 -0.0923451 ]\n",
            "  [ 0.10338803 -0.10104398]\n",
            "  [ 0.16427209 -0.1952819 ]\n",
            "  [-0.69212542 -0.47872055]\n",
            "  [-1.02813651 -1.00935249]\n",
            "  [-1.37678392 -1.02167591]\n",
            "  [-0.62664633 -1.08546773]\n",
            "  [-0.98103752 -1.28264244]\n",
            "  [-1.9138273  -1.40877626]]]\n",
            "\n",
            "\n",
            "[[[-0.25317578 -0.5485199   0.18561127 -0.20044269  0.19885759\n",
            "    0.17423406  0.25507422  0.4974124  -0.07706083 -0.39608462\n",
            "    0.14455526  0.25424306 -0.15090003 -0.01328231 -0.25109929\n",
            "    0.32443572  0.21326688 -0.35712501]\n",
            "  [ 2.1750612   1.85306258  2.41291427  1.4773674   0.56957166\n",
            "    0.44960702  0.42075362  0.45703196 -0.1430706  -0.52668031\n",
            "    0.00165749 -0.02192724 -0.82791312 -1.44072229 -1.69596721\n",
            "   -1.21064746 -1.60066345 -2.34943551]]]\n"
          ]
        }
      ]
    }
  ]
}